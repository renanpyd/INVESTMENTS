{
  "nbformat": 4,
  "nbformat_minor": 0,
  "metadata": {
    "colab": {
      "name": "EscolhaAtivosInvest.ipynb",
      "provenance": [],
      "authorship_tag": "ABX9TyOh6H0wDywSytWYvqt9nzET",
      "include_colab_link": true
    },
    "kernelspec": {
      "name": "python3",
      "display_name": "Python 3"
    },
    "language_info": {
      "name": "python"
    }
  },
  "cells": [
    {
      "cell_type": "markdown",
      "metadata": {
        "id": "view-in-github",
        "colab_type": "text"
      },
      "source": [
        "<a href=\"https://colab.research.google.com/github/renanpyd/INVESTMENTS/blob/main/EscolhaAtivosInvest.ipynb\" target=\"_parent\"><img src=\"https://colab.research.google.com/assets/colab-badge.svg\" alt=\"Open In Colab\"/></a>"
      ]
    },
    {
      "cell_type": "code",
      "execution_count": 2,
      "metadata": {
        "colab": {
          "base_uri": "https://localhost:8080/"
        },
        "id": "5XUpGaXmAxHj",
        "outputId": "12ba8f4b-2dc3-4e7c-81ee-0498cd242761"
      },
      "outputs": [
        {
          "output_type": "stream",
          "name": "stdout",
          "text": [
            "Requirement already satisfied: yfinance in /usr/local/lib/python3.7/dist-packages (0.1.70)\n",
            "Requirement already satisfied: multitasking>=0.0.7 in /usr/local/lib/python3.7/dist-packages (from yfinance) (0.0.10)\n",
            "Requirement already satisfied: lxml>=4.5.1 in /usr/local/lib/python3.7/dist-packages (from yfinance) (4.8.0)\n",
            "Requirement already satisfied: requests>=2.26 in /usr/local/lib/python3.7/dist-packages (from yfinance) (2.27.1)\n",
            "Requirement already satisfied: numpy>=1.15 in /usr/local/lib/python3.7/dist-packages (from yfinance) (1.21.5)\n",
            "Requirement already satisfied: pandas>=0.24.0 in /usr/local/lib/python3.7/dist-packages (from yfinance) (1.3.5)\n",
            "Requirement already satisfied: python-dateutil>=2.7.3 in /usr/local/lib/python3.7/dist-packages (from pandas>=0.24.0->yfinance) (2.8.2)\n",
            "Requirement already satisfied: pytz>=2017.3 in /usr/local/lib/python3.7/dist-packages (from pandas>=0.24.0->yfinance) (2018.9)\n",
            "Requirement already satisfied: six>=1.5 in /usr/local/lib/python3.7/dist-packages (from python-dateutil>=2.7.3->pandas>=0.24.0->yfinance) (1.15.0)\n",
            "Requirement already satisfied: certifi>=2017.4.17 in /usr/local/lib/python3.7/dist-packages (from requests>=2.26->yfinance) (2021.10.8)\n",
            "Requirement already satisfied: urllib3<1.27,>=1.21.1 in /usr/local/lib/python3.7/dist-packages (from requests>=2.26->yfinance) (1.24.3)\n",
            "Requirement already satisfied: charset-normalizer~=2.0.0 in /usr/local/lib/python3.7/dist-packages (from requests>=2.26->yfinance) (2.0.12)\n",
            "Requirement already satisfied: idna<4,>=2.5 in /usr/local/lib/python3.7/dist-packages (from requests>=2.26->yfinance) (2.10)\n"
          ]
        }
      ],
      "source": [
        "!pip install yfinance"
      ]
    },
    {
      "cell_type": "code",
      "source": [
        "from datetime import datetime #para trabalhar com datas\n",
        "from bs4 import BeautifulSoup #coletar dados de páginas web\n",
        "from requests.models import Response # Resposta\n",
        "from requests.sessions import Request #Requisição HTTPS\n",
        "import pandas as pd #para trabalhar com tabelas\n",
        "import yfinance as yf #para coletar dados financeiros\n",
        "import requests #para enviar e receber solicitações da internet\n",
        "import matplotlib.pyplot as plt #para trabalhar com gráficos"
      ],
      "metadata": {
        "id": "gSDuObO9BBuq"
      },
      "execution_count": 38,
      "outputs": []
    },
    {
      "cell_type": "code",
      "source": [
        "url = '<https://www.fundsexplorer.com.br/ranking>'\n",
        "\n",
        "agent = {\"User-Agent\":\"Mozilla/5.0\"}\n",
        "response = requests.get(url, headers = agent)\n",
        "\n",
        "soup = BeautifulSoup(response.text, 'lxml')\n",
        "table = soup.find_all('table')[0]\n",
        "df = pd.read_html(str(table), decimal=',', thousands='.')[0]\n",
        "stocks_df = df\n",
        "print(df)"
      ],
      "metadata": {
        "id": "rCJ9qSBeQct7"
      },
      "execution_count": null,
      "outputs": []
    },
    {
      "cell_type": "code",
      "source": [
        "symbols = stocks_df['Códigodo fundo'] + '.SA'\n",
        "symbols"
      ],
      "metadata": {
        "id": "IAi0T8v6Qc3T"
      },
      "execution_count": null,
      "outputs": []
    },
    {
      "cell_type": "code",
      "source": [
        "start = datetime(2020, 3, 30)\n",
        "end = datetime.today() #hoje\n",
        "\n",
        "def get_stocks(name):\n",
        "  stock = yf.download(name, start=start, end=end)\n",
        "  return stock\n",
        "\n",
        "tickers = [tick for tick in symbols]\n",
        "\n",
        "stock_dict = {}\n",
        "\n",
        "for tick in tickers:\n",
        "    try:\n",
        "        stock_dict[tick] = get_stocks(tick)\n",
        "    except:\n",
        "        print('Exception occured for -  ', tick)"
      ],
      "metadata": {
        "id": "2cMjIsplSQDm"
      },
      "execution_count": null,
      "outputs": []
    },
    {
      "cell_type": "code",
      "source": [
        "data = yf.download('FIVN11.SA', start = '2020-3-30', end = datetime.today())\n",
        "data"
      ],
      "metadata": {
        "id": "ZbPrT393SWrg"
      },
      "execution_count": null,
      "outputs": []
    },
    {
      "cell_type": "code",
      "source": [
        "discount_dict = {}\n",
        "\n",
        "def calculate_discount(df):\n",
        "    max_price = df['Adj Close'].describe()['75%']\n",
        "    min_price = df['Adj Close'].min()\n",
        "    return (min_price - max_price)/max_price\n",
        "    \n",
        "for tick in stock_dict.keys():\n",
        "    discount_dict[tick] = calculate_discount(stock_dict[tick])"
      ],
      "metadata": {
        "id": "rF7gqj-JSW6n"
      },
      "execution_count": null,
      "outputs": []
    },
    {
      "cell_type": "code",
      "source": [
        "discount_dict = {}\n",
        "\n",
        "def calculate_discount(df):\n",
        "    max_price = df['Adj Close'].describe()['75%']\n",
        "    min_price = df['Adj Close'].min()\n",
        "    return (min_price - max_price)/max_price\n",
        "    \n",
        "for tick in stock_dict.keys():\n",
        "    discount_dict[tick] = calculate_discount(stock_dict[tick])"
      ],
      "metadata": {
        "id": "TvHu28scT4oz"
      },
      "execution_count": null,
      "outputs": []
    },
    {
      "cell_type": "code",
      "source": [
        "returns = pd.DataFrame()\n",
        "\n",
        "for key in stock_dict.keys():\n",
        "    returns[key] = stock_dict[key]['Adj Close'].pct_change()\n",
        "    \n",
        "returns.head()"
      ],
      "metadata": {
        "id": "8JTPDP8-T4zf"
      },
      "execution_count": null,
      "outputs": []
    },
    {
      "cell_type": "code",
      "source": [
        "def get_stockname(ticker):\n",
        "    return [x for x in stocks_df[stocks_df['Códigodo fundo'] == ticker]['Códigodo fundo']][0]\n",
        "\n",
        "std_list = []\n",
        "\n",
        "for tick in stock_info_df['ticker']:\n",
        "    std_list.append(returns[tick].std()) # risk metric\n",
        "    \n",
        "stock_info_df['risk'] = std_list\n",
        "    \n",
        "stock_info_df"
      ],
      "metadata": {
        "id": "sxdPtfEZT43l"
      },
      "execution_count": null,
      "outputs": []
    },
    {
      "cell_type": "code",
      "source": [
        "def get_sector(stock):\n",
        "    return [x for x in stocks_df[symbols == stock]['Setor']]\n",
        "\n",
        "stock_info_df = pd.DataFrame.from_dict(discount_dict, orient='index').reset_index()\n",
        "stock_info_df.columns = ['ticker', 'discount']\n",
        "stock_info_df['sector'] = [get_sector(tick)[0] for tick in stock_info_df['ticker']]\n",
        "\n",
        "stock_info_df"
      ],
      "metadata": {
        "id": "AxHaWoGdT46z"
      },
      "execution_count": null,
      "outputs": []
    },
    {
      "cell_type": "code",
      "source": [
        "import plotly.express as px\n",
        "stock_info_df = stock_info_df.dropna()\n",
        "\n",
        "fig = px.scatter(stock_info_df, x = \"risk\", y = \"discount\", size = \"current_price\", color = \"sector\", hover_name = \"ticker\", log_x = True)\n",
        "fig.show()"
      ],
      "metadata": {
        "id": "yZW-frnVT5Bw"
      },
      "execution_count": null,
      "outputs": []
    }
  ]
}